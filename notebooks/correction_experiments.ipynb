{
 "cells": [
  {
   "cell_type": "markdown",
   "metadata": {},
   "source": [
    "# Heteroskedasticity correction notebook using linear transformations rotation matrices\n",
    "\n",
    "This notebook works through an idea for correcting heteroskedasticity which uses rotation matrices to align samples.\n",
    "\n",
    "For a given sample pair, the mean across all samples is computed. Then for each sample and the mean, linear regression is used to compute a line of best fit through the sample. The result is a coefficient for each sample. If these coeffieicients do not match, we can use a rotation matrix to rotate the data about the origin until they match, resulting in proper alignment between the control and treated samples.\n",
    "\n",
    "Further correction can be introduced by first negating any bias computed during linear regression."
   ]
  },
  {
   "cell_type": "code",
   "execution_count": 13,
   "metadata": {},
   "outputs": [],
   "source": [
    "import pandas as pd\n",
    "import numpy as np\n",
    "from random import randint as rand\n",
    "import matplotlib.pyplot as plt\n",
    "%matplotlib inline\n",
    "\n",
    "from sklearn.linear_model import LinearRegression\n",
    "\n",
    "from scipy.linalg import svd\n",
    "\n",
    "from seqpyplot.container.data_container import DataContainer\n",
    "from seqpyplot.parsers.config_parser import config_parser\n",
    "from pathlib import Path\n",
    "\n",
    "from matplotlib import rcParams\n",
    "\n",
    "rcParams['figure.figsize'] = (15, 15)"
   ]
  },
  {
   "cell_type": "markdown",
   "metadata": {},
   "source": [
    "## Example\n",
    "Example of rotating a line around the origin to match the slope of another line"
   ]
  },
  {
   "cell_type": "code",
   "execution_count": null,
   "metadata": {},
   "outputs": [],
   "source": [
    "slope1 = 1.1\n",
    "slope2 = 2.0\n",
    "\n",
    "line1 = np.array([slope1 * x for x in range(10)])\n",
    "line2 = np.array([slope2 * x for x in range(10)])\n",
    "\n",
    "xs = list(range(10))"
   ]
  },
  {
   "cell_type": "code",
   "execution_count": null,
   "metadata": {},
   "outputs": [],
   "source": [
    "plt.plot(xs, line1, color='black');\n",
    "plt.plot(xs, line2, color='red');"
   ]
  },
  {
   "cell_type": "code",
   "execution_count": null,
   "metadata": {},
   "outputs": [],
   "source": [
    "def calc_theta(coef1, coef2):\n",
    "    \"returns radians\"\n",
    "    return np.abs(\n",
    "       np.arctan(np.abs(coef1 - coef2) / (1. + (coef1 * coef2)))\n",
    "   )"
   ]
  },
  {
   "cell_type": "code",
   "execution_count": null,
   "metadata": {},
   "outputs": [],
   "source": [
    "angle_diff = calc_theta(slope1, slope2)\n",
    "angle_diff"
   ]
  },
  {
   "cell_type": "code",
   "execution_count": null,
   "metadata": {},
   "outputs": [],
   "source": [
    "def compute_rot_mat(rad, coef=.5):\n",
    "    if coef < 1.0:\n",
    "        rotation_matrix = np.array([[np.cos(rad), -np.sin(rad)],\n",
    "                                    [np.sin(rad), np.cos(rad)]])\n",
    "    else:\n",
    "        rotation_matrix = np.array([[np.cos(rad), np.sin(rad)],\n",
    "                                    [-np.sin(rad), np.cos(rad)]])  \n",
    "    return rotation_matrix"
   ]
  },
  {
   "cell_type": "code",
   "execution_count": null,
   "metadata": {},
   "outputs": [],
   "source": [
    "rot_matrix = compute_rot_mat(angle_diff)\n",
    "rot_matrix"
   ]
  },
  {
   "cell_type": "code",
   "execution_count": null,
   "metadata": {},
   "outputs": [],
   "source": [
    "# rotate line 1 (black line)\n",
    "new_line1 = list()\n",
    "for x, y in zip(xs, line1):\n",
    "    # need shape [[#], [#]]\n",
    "    old_point = np.array([[x], [y]])\n",
    "    new_point = np.dot(rot_matrix, old_point)\n",
    "    new_line1.append(new_point)\n",
    "new_line1 = np.squeeze(np.asarray(new_line1))"
   ]
  },
  {
   "cell_type": "markdown",
   "metadata": {},
   "source": [
    "#### Demonstration of aligning lines using results from rotation matrix"
   ]
  },
  {
   "cell_type": "code",
   "execution_count": null,
   "metadata": {},
   "outputs": [],
   "source": [
    "plt.scatter(xs, line1, color='red')\n",
    "plt.scatter(new_line1[:, 0], new_line1[:, 1], color='green')\n",
    "\n",
    "plt.scatter(xs, line2, color='black', alpha=0.4, s=95);\n",
    "for (x1, y1), (x2, y2) in zip(zip(xs, line1), new_line1):\n",
    "    \n",
    "    plt.plot([x1, x2], [y1, y2], linestyle='--', color='y')"
   ]
  },
  {
   "cell_type": "markdown",
   "metadata": {},
   "source": [
    "# Examle using actual Data No TMM\n",
    "\n",
    "1. Correct bias\n",
    "2. Rotate data"
   ]
  },
  {
   "cell_type": "code",
   "execution_count": null,
   "metadata": {},
   "outputs": [],
   "source": [
    "config = 'examples/example_config.ini'\n",
    "config_obj = config_parser(config)"
   ]
  },
  {
   "cell_type": "code",
   "execution_count": null,
   "metadata": {},
   "outputs": [],
   "source": [
    "# load the data container_obj\n",
    "container_obj = DataContainer(config_obj)\n",
    "data, ercc_data = container_obj.parse_input()"
   ]
  },
  {
   "cell_type": "code",
   "execution_count": null,
   "metadata": {},
   "outputs": [],
   "source": [
    "cols = data.columns\n",
    "cols"
   ]
  },
  {
   "cell_type": "code",
   "execution_count": null,
   "metadata": {},
   "outputs": [],
   "source": [
    "df = data[['D1_Cont', 'D1_Treat']]\n",
    "\n",
    "df.loc[:, 'mean'] = df.mean(axis=1)"
   ]
  },
  {
   "cell_type": "code",
   "execution_count": null,
   "metadata": {},
   "outputs": [],
   "source": [
    "df.head()"
   ]
  },
  {
   "cell_type": "code",
   "execution_count": null,
   "metadata": {},
   "outputs": [],
   "source": [
    "d1 = df[['D1_Cont', 'mean']]\n",
    "d2 = df[['D1_Treat', 'mean']]"
   ]
  },
  {
   "cell_type": "code",
   "execution_count": null,
   "metadata": {},
   "outputs": [],
   "source": [
    "fig, ax = plt.subplots()\n",
    "d1.plot('mean', 'D1_Cont', kind='scatter', xlim=(0, 5000), ylim=(0, 5000), ax=ax, color='blue')\n",
    "d2.plot('mean', 'D1_Treat', kind='scatter', xlim=(0, 5000), ylim=(0, 5000), ax=ax, color='red');\n",
    "ax.set_title(\"Raw unnormalized data\");"
   ]
  },
  {
   "cell_type": "code",
   "execution_count": null,
   "metadata": {},
   "outputs": [],
   "source": [
    "regCont = LinearRegression(fit_intercept=True)\n",
    "regTreat = LinearRegression(fit_intercept=True)"
   ]
  },
  {
   "cell_type": "code",
   "execution_count": null,
   "metadata": {},
   "outputs": [],
   "source": [
    "regCont.fit(d1['D1_Cont'].values.reshape(-1, 1), d1['mean'].values.reshape(-1, 1))\n",
    "regTreat.fit(d2['D1_Treat'].values.reshape(-1, 1), d1['mean'].values.reshape(-1, 1))"
   ]
  },
  {
   "cell_type": "code",
   "execution_count": null,
   "metadata": {},
   "outputs": [],
   "source": [
    "regCont.coef_, regCont.intercept_"
   ]
  },
  {
   "cell_type": "code",
   "execution_count": null,
   "metadata": {},
   "outputs": [],
   "source": [
    "regTreat.coef_, regTreat.intercept_"
   ]
  },
  {
   "cell_type": "markdown",
   "metadata": {},
   "source": [
    "#### Correct Bias"
   ]
  },
  {
   "cell_type": "code",
   "execution_count": null,
   "metadata": {},
   "outputs": [],
   "source": [
    "d1['D1_Cont'] = d1['D1_Cont'] - regCont.intercept_\n",
    "d2['D1_Treat'] = d2['D1_Treat'] - regTreat.intercept_"
   ]
  },
  {
   "cell_type": "code",
   "execution_count": null,
   "metadata": {},
   "outputs": [],
   "source": [
    "fig, ax = plt.subplots()\n",
    "d1.plot('mean', 'D1_Cont', kind='scatter', xlim=(0, 5000), ylim=(0, 5000), ax=ax, color='blue')\n",
    "d2.plot('mean', 'D1_Treat', kind='scatter', xlim=(0, 5000), ylim=(0, 5000), ax=ax, color='red')\n",
    "plt.plot([0, 5000], [0.0, regCont.coef_ * 5000], linestyle='--', color='black')\n",
    "plt.plot([0, 5000], [0.0, regTreat.coef_ * 5000], linestyle='--', color='black');\n",
    "ax.set_title(\"bias corrected, with best fit lines\");"
   ]
  },
  {
   "cell_type": "markdown",
   "metadata": {},
   "source": [
    "#### Compute rotation linear transformation"
   ]
  },
  {
   "cell_type": "code",
   "execution_count": null,
   "metadata": {},
   "outputs": [],
   "source": [
    "correction_theta = calc_theta(np.squeeze(regCont.coef_), np.squeeze(regTreat.coef_))\n",
    "correction_theta  # in radians"
   ]
  },
  {
   "cell_type": "code",
   "execution_count": null,
   "metadata": {},
   "outputs": [],
   "source": [
    "rotation_matrix = compute_rot_mat(correction_theta)\n",
    "rotation_matrix"
   ]
  },
  {
   "cell_type": "code",
   "execution_count": null,
   "metadata": {},
   "outputs": [],
   "source": [
    "new_treat = np.array([np.dot(rotation_matrix, d2.values[i, :]) for i in range(len(d2.values))])\n",
    "new_treat"
   ]
  },
  {
   "cell_type": "code",
   "execution_count": null,
   "metadata": {},
   "outputs": [],
   "source": [
    "d2_cor = d2.copy()\n",
    "d2_cor.loc[:, 'D1_Treat'] = new_treat[:, 0]\n",
    "d2_cor.loc[:, 'mean'] = new_treat[:, 1]"
   ]
  },
  {
   "cell_type": "markdown",
   "metadata": {},
   "source": [
    "### Realigned Data"
   ]
  },
  {
   "cell_type": "code",
   "execution_count": null,
   "metadata": {},
   "outputs": [],
   "source": [
    "fig, ax = plt.subplots()\n",
    "d1.plot('mean', 'D1_Cont', kind='scatter', xlim=(0, 20000), ylim=(0, 20000), ax=ax, color='blue')\n",
    "d2_cor.plot('mean', 'D1_Treat', kind='scatter', xlim=(0, 5000), ylim=(0, 5000), ax=ax, color='red');\n",
    "ax.set_title(\"No TMM, linearly transformed\");"
   ]
  },
  {
   "cell_type": "markdown",
   "metadata": {},
   "source": [
    "# Use TMM before linear transformation"
   ]
  },
  {
   "cell_type": "code",
   "execution_count": null,
   "metadata": {},
   "outputs": [],
   "source": [
    "# load the data container_obj\n",
    "container_obj = DataContainer(config_obj)\n",
    "data, ercc_data = container_obj.parse_input()\n",
    "\n",
    "data = container_obj.normalize_file_pairs(data) # Single df of normalized data\n",
    "\n",
    "data.head()\n",
    "\n",
    "df = data[['D1_Cont', 'D1_Treat']]\n",
    "df.loc[:, 'mean'] = df.mean(axis=1)\n",
    "\n",
    "d1 = df[['D1_Cont', 'mean']]\n",
    "d2 = df[['D1_Treat', 'mean']]"
   ]
  },
  {
   "cell_type": "code",
   "execution_count": null,
   "metadata": {},
   "outputs": [],
   "source": [
    "fig, ax = plt.subplots()\n",
    "d1.plot('mean', 'D1_Cont', kind='scatter', xlim=(0, 5000), ylim=(0, 5000), ax=ax, color='blue')\n",
    "d2.plot('mean', 'D1_Treat', kind='scatter', xlim=(0, 5000), ylim=(0, 5000), ax=ax, color='red');\n",
    "ax.set_title(\"TMM Normalized\");"
   ]
  },
  {
   "cell_type": "code",
   "execution_count": null,
   "metadata": {},
   "outputs": [],
   "source": [
    "regCont = LinearRegression(fit_intercept=True)\n",
    "regTreat = LinearRegression(fit_intercept=True)\n",
    "\n",
    "regCont.fit(d1['D1_Cont'].values.reshape(-1, 1), d1['mean'].values.reshape(-1, 1))\n",
    "regTreat.fit(d2['D1_Treat'].values.reshape(-1, 1), d1['mean'].values.reshape(-1, 1))"
   ]
  },
  {
   "cell_type": "code",
   "execution_count": null,
   "metadata": {},
   "outputs": [],
   "source": [
    "regCont.coef_, regCont.intercept_"
   ]
  },
  {
   "cell_type": "code",
   "execution_count": null,
   "metadata": {},
   "outputs": [],
   "source": [
    "regTreat.coef_, regTreat.intercept_"
   ]
  },
  {
   "cell_type": "code",
   "execution_count": null,
   "metadata": {},
   "outputs": [],
   "source": [
    "d2.head()"
   ]
  },
  {
   "cell_type": "code",
   "execution_count": null,
   "metadata": {},
   "outputs": [],
   "source": [
    "d1['D1_Cont'] = d1['D1_Cont'] - regCont.intercept_\n",
    "d2['D1_Treat'] = d2['D1_Treat'] - regTreat.intercept_"
   ]
  },
  {
   "cell_type": "code",
   "execution_count": null,
   "metadata": {},
   "outputs": [],
   "source": [
    "fig, ax = plt.subplots()\n",
    "d1.plot('mean', 'D1_Cont', kind='scatter', xlim=(0, 5000), ylim=(0, 5000), ax=ax, color='blue')\n",
    "d2.plot('mean', 'D1_Treat', kind='scatter', xlim=(0, 5000), ylim=(0, 5000), ax=ax, color='red')\n",
    "plt.plot([0, 5000], [0.0, regCont.coef_ * 5000], linestyle='--', color='black')\n",
    "plt.plot([0, 5000], [0.0, regTreat.coef_ * 5000], linestyle='--', color='white');\n",
    "ax.set_title(\"bias corrected, with best fit lines\");"
   ]
  },
  {
   "cell_type": "markdown",
   "metadata": {},
   "source": [
    "Compute linear transformation"
   ]
  },
  {
   "cell_type": "code",
   "execution_count": null,
   "metadata": {},
   "outputs": [],
   "source": [
    "correction_theta = calc_theta(np.squeeze(regCont.coef_), np.squeeze(regTreat.coef_))\n",
    "correction_theta  # in radians"
   ]
  },
  {
   "cell_type": "code",
   "execution_count": null,
   "metadata": {},
   "outputs": [],
   "source": [
    "rotation_matrix = compute_rot_mat(correction_theta)\n",
    "rotation_matrix"
   ]
  },
  {
   "cell_type": "code",
   "execution_count": null,
   "metadata": {},
   "outputs": [],
   "source": [
    "new_treat = np.array([np.dot(rotation_matrix, d2.values[i, :]) for i in range(len(d2.values))])\n",
    "new_treat"
   ]
  },
  {
   "cell_type": "code",
   "execution_count": null,
   "metadata": {},
   "outputs": [],
   "source": [
    "d2_cor = d2.copy()\n",
    "d2_cor.loc[:, 'D1_Treat'] = new_treat[:, 0]\n",
    "d2_cor.loc[:, 'mean'] = new_treat[:, 1]"
   ]
  },
  {
   "cell_type": "code",
   "execution_count": null,
   "metadata": {},
   "outputs": [],
   "source": [
    "fig, ax = plt.subplots()\n",
    "d1.plot('mean', 'D1_Cont', kind='scatter', xlim=(0, 20000), ylim=(0, 20000), ax=ax, color='blue')\n",
    "d2_cor.plot('mean', 'D1_Treat', kind='scatter', xlim=(0, 5000), ylim=(0, 5000), ax=ax, color='red');\n",
    "ax.set_title(\"With TMM, linearly transformed\");"
   ]
  },
  {
   "cell_type": "code",
   "execution_count": null,
   "metadata": {},
   "outputs": [],
   "source": [
    "d2_cor.head()"
   ]
  },
  {
   "cell_type": "code",
   "execution_count": null,
   "metadata": {},
   "outputs": [],
   "source": [
    "reg = LinearRegression(fit_intercept=True)\n",
    "reg.fit(d2_cor['mean'].values.reshape(-1, 1), d2_cor['D1_Treat'].values.reshape(-1, 1), )"
   ]
  },
  {
   "cell_type": "code",
   "execution_count": null,
   "metadata": {},
   "outputs": [],
   "source": [
    "fig, ax = plt.subplots()\n",
    "d1.plot('mean', 'D1_Cont', kind='scatter', xlim=(0, 20000), ylim=(0, 20000), ax=ax, color='blue')\n",
    "d2_cor.plot('mean', 'D1_Treat', kind='scatter', xlim=(0, 5000), ylim=(0, 5000), ax=ax, color='red');\n",
    "plt.plot([0, 5000], [0.0, reg.coef_ * 5000], linestyle='--', color='white')\n",
    "# plt.plot([0, 5000], [0.0, regCont.coef_ * 5000], linestyle='--', color='black');\n",
    "# plt.plot([0, 5000], [0.0, regTreat.coef_ * 5000], linestyle='--', color='blue');\n",
    "\n",
    "ax.set_title(\"With TMM, linearly transformed\");"
   ]
  },
  {
   "cell_type": "code",
   "execution_count": null,
   "metadata": {},
   "outputs": [],
   "source": [
    "calc_theta(1.0, regCont.coef_)"
   ]
  },
  {
   "cell_type": "code",
   "execution_count": null,
   "metadata": {},
   "outputs": [],
   "source": [
    "calc_theta(1.0, regTreat.coef_)"
   ]
  },
  {
   "cell_type": "markdown",
   "metadata": {},
   "source": [
    "The most straightforward approach is probably going to be to transform the data so that each one line is brought to the slope of another. Once both samples are transformed, then the means will be dropped, and then recomputed. This will cause the data to be reordered (since we order based on the mean). Once plotted, the redistributed data should then be in a form that is ready for filtering."
   ]
  },
  {
   "cell_type": "markdown",
   "metadata": {},
   "source": [
    "# Choosing thresholds for outlier cutoffs\n",
    "\n",
    "Before performing rotation correction, its a good idea to eliminate some of the worst outlier offenders before performing linear regression. To do this, we can calculate summary statistics on the sample pair, and "
   ]
  },
  {
   "cell_type": "code",
   "execution_count": 57,
   "metadata": {},
   "outputs": [],
   "source": [
    "config = 'examples/example_config.ini'\n",
    "config_obj = config_parser(config)\n",
    "\n",
    "# load the data container_obj\n",
    "container_obj = DataContainer(config_obj)\n",
    "data, ercc_data = container_obj.parse_input()\n",
    "\n",
    "data = container_obj.normalize_file_pairs(data) # Single df of normalized data\n",
    "\n",
    "df = data[['D1_Cont', 'D1_Treat']].copy()\n",
    "df.loc[:, 'mean'] = df.mean(axis=1)\n",
    "df.loc[:, 'var'] = (df['D1_Cont'] - df['mean']).abs()\n",
    "df.loc[:, 'diff'] = (df['D1_Cont'] - df['D1_Treat']).abs()\n"
   ]
  },
  {
   "cell_type": "code",
   "execution_count": 58,
   "metadata": {},
   "outputs": [],
   "source": [
    "described = df[df['diff'] > 0.0].describe(percentiles=[x /10. for x in range(10)])"
   ]
  },
  {
   "cell_type": "code",
   "execution_count": 59,
   "metadata": {},
   "outputs": [],
   "source": [
    "deef = described.copy()\n",
    "deef.drop(['count', 'mean', 'std', 'min', 'max'], axis=0, inplace=True)\n",
    "columns = deef.columns\n",
    "idx = deef.index.tolist()"
   ]
  },
  {
   "cell_type": "code",
   "execution_count": 60,
   "metadata": {},
   "outputs": [
    {
     "data": {
      "text/html": [
       "<div>\n",
       "<style scoped>\n",
       "    .dataframe tbody tr th:only-of-type {\n",
       "        vertical-align: middle;\n",
       "    }\n",
       "\n",
       "    .dataframe tbody tr th {\n",
       "        vertical-align: top;\n",
       "    }\n",
       "\n",
       "    .dataframe thead th {\n",
       "        text-align: right;\n",
       "    }\n",
       "</style>\n",
       "<table border=\"1\" class=\"dataframe\">\n",
       "  <thead>\n",
       "    <tr style=\"text-align: right;\">\n",
       "      <th></th>\n",
       "      <th>D1_Cont</th>\n",
       "      <th>D1_Treat</th>\n",
       "      <th>mean</th>\n",
       "      <th>var</th>\n",
       "      <th>diff</th>\n",
       "    </tr>\n",
       "  </thead>\n",
       "  <tbody>\n",
       "    <tr>\n",
       "      <th>0%</th>\n",
       "      <td>0.0</td>\n",
       "      <td>0.000000</td>\n",
       "      <td>0.495731</td>\n",
       "      <td>0.000470</td>\n",
       "      <td>0.000940</td>\n",
       "    </tr>\n",
       "    <tr>\n",
       "      <th>10%</th>\n",
       "      <td>1.0</td>\n",
       "      <td>1.982922</td>\n",
       "      <td>1.495731</td>\n",
       "      <td>0.500000</td>\n",
       "      <td>1.000000</td>\n",
       "    </tr>\n",
       "    <tr>\n",
       "      <th>20%</th>\n",
       "      <td>6.0</td>\n",
       "      <td>7.931688</td>\n",
       "      <td>6.474383</td>\n",
       "      <td>1.051704</td>\n",
       "      <td>2.103407</td>\n",
       "    </tr>\n",
       "    <tr>\n",
       "      <th>30%</th>\n",
       "      <td>19.0</td>\n",
       "      <td>24.786526</td>\n",
       "      <td>21.414610</td>\n",
       "      <td>2.512808</td>\n",
       "      <td>5.025617</td>\n",
       "    </tr>\n",
       "    <tr>\n",
       "      <th>40%</th>\n",
       "      <td>60.0</td>\n",
       "      <td>74.359577</td>\n",
       "      <td>68.149902</td>\n",
       "      <td>5.548374</td>\n",
       "      <td>11.096748</td>\n",
       "    </tr>\n",
       "    <tr>\n",
       "      <th>50%</th>\n",
       "      <td>145.0</td>\n",
       "      <td>174.497140</td>\n",
       "      <td>160.714414</td>\n",
       "      <td>11.615746</td>\n",
       "      <td>23.231492</td>\n",
       "    </tr>\n",
       "    <tr>\n",
       "      <th>60%</th>\n",
       "      <td>274.0</td>\n",
       "      <td>328.173598</td>\n",
       "      <td>301.625225</td>\n",
       "      <td>21.415550</td>\n",
       "      <td>42.831100</td>\n",
       "    </tr>\n",
       "    <tr>\n",
       "      <th>70%</th>\n",
       "      <td>454.0</td>\n",
       "      <td>537.371874</td>\n",
       "      <td>496.638973</td>\n",
       "      <td>38.646102</td>\n",
       "      <td>77.292204</td>\n",
       "    </tr>\n",
       "    <tr>\n",
       "      <th>80%</th>\n",
       "      <td>763.0</td>\n",
       "      <td>905.203913</td>\n",
       "      <td>835.289814</td>\n",
       "      <td>67.705364</td>\n",
       "      <td>135.410728</td>\n",
       "    </tr>\n",
       "    <tr>\n",
       "      <th>90%</th>\n",
       "      <td>1410.0</td>\n",
       "      <td>1671.603284</td>\n",
       "      <td>1545.322989</td>\n",
       "      <td>136.783154</td>\n",
       "      <td>273.566309</td>\n",
       "    </tr>\n",
       "  </tbody>\n",
       "</table>\n",
       "</div>"
      ],
      "text/plain": [
       "     D1_Cont     D1_Treat         mean         var        diff\n",
       "0%       0.0     0.000000     0.495731    0.000470    0.000940\n",
       "10%      1.0     1.982922     1.495731    0.500000    1.000000\n",
       "20%      6.0     7.931688     6.474383    1.051704    2.103407\n",
       "30%     19.0    24.786526    21.414610    2.512808    5.025617\n",
       "40%     60.0    74.359577    68.149902    5.548374   11.096748\n",
       "50%    145.0   174.497140   160.714414   11.615746   23.231492\n",
       "60%    274.0   328.173598   301.625225   21.415550   42.831100\n",
       "70%    454.0   537.371874   496.638973   38.646102   77.292204\n",
       "80%    763.0   905.203913   835.289814   67.705364  135.410728\n",
       "90%   1410.0  1671.603284  1545.322989  136.783154  273.566309"
      ]
     },
     "execution_count": 60,
     "metadata": {},
     "output_type": "execute_result"
    }
   ],
   "source": [
    "deef"
   ]
  },
  {
   "cell_type": "markdown",
   "metadata": {},
   "source": [
    "Using the 75th percentile is typical practice. Based on thse summary stats, it doens't seem unreasonable to take up to the 90th percentile, however a conservative estimate is likely to improve results."
   ]
  },
  {
   "cell_type": "code",
   "execution_count": 61,
   "metadata": {
    "scrolled": false
   },
   "outputs": [
    {
     "name": "stderr",
     "output_type": "stream",
     "text": [
      "/Users/pgradie/miniconda-3.9.1/envs/py3/lib/python3.6/site-packages/matplotlib/figure.py:2267: UserWarning: This figure includes Axes that are not compatible with tight_layout, so results might be incorrect.\n",
      "  warnings.warn(\"This figure includes Axes that are not compatible \"\n"
     ]
    },
    {
     "data": {
      "image/png": "[encoded data removed]",
      "text/plain": [
       "<Figure size 1080x1080 with 5 Axes>"
      ]
     },
     "metadata": {},
     "output_type": "display_data"
    }
   ],
   "source": [
    "fig = plt.figure()\n",
    "grid = plt.GridSpec(2, 6, wspace=0.4, hspace=0.3)\n",
    "\n",
    "ax1 = plt.subplot(grid[0, 0:3])\n",
    "ax1.plot(idx, deef['D1_Cont'])\n",
    "plt.title('Control Counts')\n",
    "plt.axvline(7.5, linestyle='--', alpha=0.4)\n",
    "\n",
    "ax2 = plt.subplot(grid[0, 3:6], sharey=ax1)\n",
    "ax2.plot(idx, deef['D1_Treat'])\n",
    "plt.title('Treated Counts')\n",
    "plt.axvline(7.5, linestyle='--', alpha=0.4)\n",
    "\n",
    "ax3 = plt.subplot(grid[1, 0:2])\n",
    "ax3.plot(idx, deef['mean'])\n",
    "plt.title('Mean')\n",
    "plt.axvline(7.5, linestyle='--', alpha=0.4)\n",
    "\n",
    "ax4 = plt.subplot(grid[1, 2:4], sharey=ax3)\n",
    "ax4.plot(idx, deef['var'])\n",
    "plt.title('Var')\n",
    "plt.axvline(7.5, linestyle='--', alpha=0.4)\n",
    "\n",
    "ax5 = plt.subplot(grid[1, 4:6], sharey=ax3)\n",
    "ax5.plot(idx, deef['diff'])\n",
    "plt.title('Diff')\n",
    "plt.axvline(7.5, linestyle='--', alpha=0.4)\n",
    "\n",
    "plt.tight_layout();"
   ]
  },
  {
   "cell_type": "code",
   "execution_count": 78,
   "metadata": {},
   "outputs": [],
   "source": [
    "perc_filtered = df #[df['diff'] < deef.describe().loc['75%']['diff']]"
   ]
  },
  {
   "cell_type": "code",
   "execution_count": 79,
   "metadata": {},
   "outputs": [],
   "source": [
    "def rotate(rotation_matrix, points):\n",
    "    return np.array([np.dot(rotation_matrix, points.values[i, :]) for i in range(len(points.values))])\n",
    "\n",
    "def calc_theta(coef1, coef2):\n",
    "    \"returns radians\"\n",
    "    return np.abs(\n",
    "       np.arctan(np.abs(coef1 - coef2) / (1. + (coef1 * coef2)))\n",
    "   )\n",
    "\n",
    "def compute_rot_mat(rad, coef):\n",
    "    if coef < 1.0:\n",
    "        rotation_matrix = np.array([[np.cos(rad), -np.sin(rad)],\n",
    "                                    [np.sin(rad), np.cos(rad)]])\n",
    "    else:\n",
    "        rotation_matrix = np.array([[np.cos(rad), np.sin(rad)],\n",
    "                                    [-np.sin(rad), np.cos(rad)]])  \n",
    "    return rotation_matrix"
   ]
  },
  {
   "cell_type": "code",
   "execution_count": 80,
   "metadata": {},
   "outputs": [
    {
     "name": "stdout",
     "output_type": "stream",
     "text": [
      "[[1.09273472]]\n",
      "[[0.90726528]]\n",
      "theta 0.09286729328763023\n",
      "[[ 0.99569093 -0.09273386]\n",
      " [ 0.09273386  0.99569093]]\n"
     ]
    },
    {
     "data": {
      "image/png": "[encoded data removed]",
      "text/plain": [
       "<Figure size 1080x1080 with 1 Axes>"
      ]
     },
     "metadata": {},
     "output_type": "display_data"
    }
   ],
   "source": [
    "# Compute regression\n",
    "regCont = LinearRegression(fit_intercept=True)\n",
    "regTreat = LinearRegression(fit_intercept=True)\n",
    "\n",
    "# Fit regression line\n",
    "regCont.fit( perc_filtered['mean'].values.reshape(-1, 1), perc_filtered['D1_Cont'].values.reshape(-1, 1))\n",
    "regTreat.fit(perc_filtered['mean'].values.reshape(-1, 1), perc_filtered['D1_Treat'].values.reshape(-1, 1))\n",
    "print(regTreat.coef_)\n",
    "print(regCont.coef_)\n",
    "\n",
    "# Correct Bias\n",
    "df['D1_Cont'] = df['D1_Cont'] - regCont.intercept_\n",
    "df['D1_Treat'] = df['D1_Treat'] - regTreat.intercept_\n",
    "\n",
    "# Compute theta in radians\n",
    "theta = calc_theta(regTreat.coef_[0][0], regCont.coef_[0][0])\n",
    "print('theta', theta)\n",
    "# theta=0.1\n",
    "\n",
    "# Compute rotation Matrix\n",
    "rotation_matrix_cont = compute_rot_mat(theta, regCont.coef_[0][0])\n",
    "print(rotation_matrix_cont)\n",
    "\n",
    "# rotate data\n",
    "new_cont = rotate(rotation_matrix_cont, df[['mean', 'D1_Cont']])\n",
    "\n",
    "# reassign data\n",
    "new_data = pd.DataFrame({'Cont': new_cont[:, 1], 'Treat': df['D1_Treat']})\n",
    "new_data.loc[:, 'mean'] = new_data.mean(axis=1)\n",
    "\n",
    "fig, ax = plt.subplots()\n",
    "new_data.plot('mean', 'Cont', kind='scatter', xlim=(0, 5000), ylim=(0, 5000), ax=ax, color='red', alpha=0.95, s=3)\n",
    "new_data.plot('mean', 'Treat', kind='scatter', xlim=(0, 5000), ylim=(0, 5000), ax=ax, color='blue', alpha=0.25, s=15)\n",
    "\n",
    "plt.plot([0, 5000], [0.0, regCont.coef_ * 5000], linestyle='--', color='white')\n",
    "plt.plot([0, 5000], [0.0, regTreat.coef_ * 5000], linestyle='--', color='white');\n",
    "\n",
    "ax.plot([0, 10000], [0, 10000], color='black')\n",
    "ax.set_title(\"TMM Normalized, rotated\");"
   ]
  },
  {
   "cell_type": "code",
   "execution_count": 53,
   "metadata": {},
   "outputs": [],
   "source": [
    "d1.loc[:, 'diff'] = new_data['Cont'].sub(new_data['Treat']).abs()"
   ]
  },
  {
   "cell_type": "code",
   "execution_count": null,
   "metadata": {},
   "outputs": [],
   "source": [
    "d = df.copy()"
   ]
  },
  {
   "cell_type": "code",
   "execution_count": null,
   "metadata": {},
   "outputs": [],
   "source": [
    "d.head()"
   ]
  },
  {
   "cell_type": "code",
   "execution_count": null,
   "metadata": {},
   "outputs": [],
   "source": []
  },
  {
   "cell_type": "code",
   "execution_count": null,
   "metadata": {},
   "outputs": [],
   "source": [
    "d.loc[:, 'diff'] = d['D1_Cont'].sub(d['D1_Treat']).abs()"
   ]
  },
  {
   "cell_type": "code",
   "execution_count": null,
   "metadata": {},
   "outputs": [],
   "source": [
    "d.describe(percentiles=np.linspace(0, 0.99, num=9))"
   ]
  },
  {
   "cell_type": "code",
   "execution_count": null,
   "metadata": {},
   "outputs": [],
   "source": [
    "d.describe(percentiles=np.linspace(0, 0.99, num=9)).drop(['count', 'mean', 'std', 'min', 'max']).plot(style=['--', '-', '--', '-']);"
   ]
  },
  {
   "cell_type": "code",
   "execution_count": null,
   "metadata": {},
   "outputs": [],
   "source": [
    "new_data[(new_data.apply(lambda x: x < 5000)) & (new_data.apply(lambda x: x > 100))].plot(kind='hist', bins=50, alpha=0.2)"
   ]
  },
  {
   "cell_type": "code",
   "execution_count": null,
   "metadata": {},
   "outputs": [],
   "source": []
  },
  {
   "cell_type": "code",
   "execution_count": null,
   "metadata": {},
   "outputs": [],
   "source": []
  },
  {
   "cell_type": "code",
   "execution_count": null,
   "metadata": {},
   "outputs": [],
   "source": []
  },
  {
   "cell_type": "code",
   "execution_count": null,
   "metadata": {},
   "outputs": [],
   "source": []
  },
  {
   "cell_type": "code",
   "execution_count": null,
   "metadata": {},
   "outputs": [],
   "source": []
  },
  {
   "cell_type": "code",
   "execution_count": null,
   "metadata": {},
   "outputs": [],
   "source": []
  },
  {
   "cell_type": "code",
   "execution_count": null,
   "metadata": {},
   "outputs": [],
   "source": []
  },
  {
   "cell_type": "code",
   "execution_count": null,
   "metadata": {},
   "outputs": [],
   "source": []
  },
  {
   "cell_type": "code",
   "execution_count": null,
   "metadata": {},
   "outputs": [],
   "source": []
  },
  {
   "cell_type": "code",
   "execution_count": null,
   "metadata": {},
   "outputs": [],
   "source": []
  },
  {
   "cell_type": "code",
   "execution_count": null,
   "metadata": {},
   "outputs": [],
   "source": []
  },
  {
   "cell_type": "code",
   "execution_count": null,
   "metadata": {},
   "outputs": [],
   "source": []
  },
  {
   "cell_type": "code",
   "execution_count": null,
   "metadata": {},
   "outputs": [],
   "source": []
  },
  {
   "cell_type": "code",
   "execution_count": null,
   "metadata": {},
   "outputs": [],
   "source": [
    "new_df.dropna(axis=0, inplace=False)"
   ]
  },
  {
   "cell_type": "code",
   "execution_count": null,
   "metadata": {},
   "outputs": [],
   "source": [
    "# This function returns the TMM normalized of ALL sample. The next function needs to normalize by paired time point.\n",
    "def TMM_all_samples(raw_df, \n",
    "                    threshold=10,\n",
    "                    logfold_change_cutoff = 0.3,\n",
    "                    absolute_intensity_cutoff = 0.05):\n",
    "    \n",
    "    frame = raw_df.copy()\n",
    "    original_df = raw_df.copy()\n",
    "    \n",
    "    # Remove genes that don't have expression, and save them as a separate df to be added in later.\n",
    "    df = frame.loc[(frame >= threshold).all(axis=1)]\n",
    "    non_expressed_genes = frame.drop(df.index)\n",
    "    \n",
    "    ## Calculate factor quantiles\n",
    "    ### PERFORM TRIMMING ###\n",
    "    sample_column_names = df.columns.tolist()\n",
    "    \n",
    "    ref_col = sample_column_names[0]\n",
    "    non_ref_cols = sample_column_names[1:]\n",
    "    \n",
    "    # 1. Calculate reference column statistics -- This could be more sophistocated (PCA to find middle most sample?\n",
    "    # n_kref = column sum for reference column (first column)    \n",
    "    reference_column_sum = df.loc[:, ref_col].sum()\n",
    "    reference_column = df[ref_col]\n",
    "\n",
    "    \n",
    "    # 2. Calculate the gene-wise logfold changes\n",
    "    genewise_logfold_change = df.apply(lambda col: np.log2((col/col.sum())/(reference_column/reference_column_sum)))\n",
    "    \n",
    "    \n",
    "    # 3. Calculate the genewise Absolute Intensity\n",
    "    genewise_abs_intensity = df.apply(lambda col: (np.log2((col/col.sum())*(reference_column/reference_column_sum)))/2.)\n",
    "\n",
    "    \n",
    "    # 4 Trim logfold and absolute     \n",
    "    logfold_mask = genewise_logfold_change.apply(lambda col: col > genewise_logfold_change.quantile(logfold_change_cutoff, axis=1))\n",
    "    abs_instensity_mask = genewise_abs_intensity.apply(lambda col: col > genewise_abs_intensity.quantile(absolute_intensity_cutoff, axis=1))\n",
    "    \n",
    "    import pdb;pdb.set_trace()\n",
    "\n",
    "    # Remove rows with masked values\n",
    "    df = df[logfold_mask]\n",
    "    df = df[abs_instensity_mask]\n",
    "    df_clean = df.dropna(axis=1)\n",
    "    \n",
    "    \n",
    "    #######################################################\n",
    "    \"\"\" From here we have a trimmed data frame of values that we can use to calculate normalization factors for.\"\"\"\n",
    "    # w-r_gk\n",
    "    weight_r_gk = lambda col: ((col.sum() - col) / (col.sum() * col)) + ((reference_column_sum - reference_column) / (reference_column_sum * reference_column))\n",
    "    w_r_gk = df_clean.apply(weight_r_gk)\n",
    "    \n",
    "    # m-r_gk\n",
    "    mean_r_gk = lambda col: (np.log2(col / col.sum()) ) / (np.log2(reference_column / reference_column_sum))\n",
    "    m_r_gk = df_clean.apply(mean_r_gk)\n",
    "    \n",
    "    normalization_factors = np.sum(w_r_gk * m_r_gk) / np.sum(w_r_gk)\n",
    "    \n",
    "    normalized_df = frame.multiply(normalization_factors, axis=1)\n",
    "    \n",
    "    return normalized_df"
   ]
  },
  {
   "cell_type": "code",
   "execution_count": null,
   "metadata": {},
   "outputs": [],
   "source": [
    "TMM_all_samples(raw_df)"
   ]
  },
  {
   "cell_type": "code",
   "execution_count": null,
   "metadata": {},
   "outputs": [],
   "source": [
    "raw_df.loc[(raw_df > 10).any(axis=1)]"
   ]
  },
  {
   "cell_type": "code",
   "execution_count": null,
   "metadata": {},
   "outputs": [],
   "source": [
    "ser =[0.1, 0.5, 0]"
   ]
  },
  {
   "cell_type": "code",
   "execution_count": null,
   "metadata": {},
   "outputs": [],
   "source": [
    "raw_df.mul(ser, axis=1)"
   ]
  },
  {
   "cell_type": "code",
   "execution_count": null,
   "metadata": {},
   "outputs": [],
   "source": [
    "calcNormFactors <- function(object, ...)\n",
    "UseMethod(\"calcNormFactors\")\n",
    "\n",
    "calcNormFactors.DGEList <- function(object, method=c(\"TMM\",\"RLE\",\"upperquartile\",\"none\"), refColumn=NULL, logratioTrim=.3, sumTrim=0.05, doWeighting=TRUE, Acutoff=-1e10, p=0.75, ...)\n",
    "#\tScale normalization of RNA-Seq data, for DGEList objects\n",
    "#\tCreated 2 October 2014.  Last modified 27 August 2015.\n",
    "{\n",
    "\tobject$samples$norm.factors <- calcNormFactors(object=object$counts, lib.size=object$samples$lib.size, method=method, refColumn=refColumn, logratioTrim=logratioTrim, sumTrim=sumTrim, doWeighting=doWeighting, Acutoff=Acutoff, p=p)\n",
    "\tobject\n",
    "}\n",
    "\n",
    "calcNormFactors.default <- function(object, lib.size=NULL, method=c(\"TMM\",\"RLE\",\"upperquartile\",\"none\"), refColumn=NULL, logratioTrim=.3, sumTrim=0.05, doWeighting=TRUE, Acutoff=-1e10, p=0.75, ...)\n",
    "#\tScale normalization of RNA-Seq data, for count matrices\n",
    "#\tMark Robinson.  Edits by Gordon Smyth.\n",
    "#\tCreated October 22 October 2009 by Mark Robinson.\n",
    "#\tLast modified 31 July 2015.\n",
    "{\n",
    "#\tCheck object\n",
    "\tx <- as.matrix(object)\n",
    "\tif(any(is.na(x))) stop(\"NA counts not permitted\")\n",
    "\n",
    "#\tCheck lib.size\n",
    "\tif(is.null(lib.size)) lib.size <- colSums(x)\n",
    "\tif(any(is.na(lib.size))) stop(\"NA lib.sizes not permitted\")\n",
    "\n",
    "#\tCheck method\n",
    "\tmethod <- match.arg(method)\n",
    "\n",
    "#\tRemove all zero rows\n",
    "\tallzero <- .rowSums(x>0, nrow(x), ncol(x)) == 0\n",
    "\tif(any(allzero)) x <- x[!allzero,,drop=FALSE]\n",
    "\n",
    "#\tDegenerate cases\n",
    "\tif(nrow(x)==0 || ncol(x)==1) method=\"none\"\n",
    "\n",
    "#\tCalculate factors\n",
    "\tf <- switch(method,\n",
    "\t\tTMM = {\n",
    "\t\t\tf75 <- .calcFactorQuantile(data=x, lib.size=lib.size, p=0.75)\n",
    "\t\t\tif( is.null(refColumn) ) refColumn <- which.min(abs(f75-mean(f75)))\n",
    "\t\t\tif(length(refColumn)==0 | refColumn < 1 | refColumn > ncol(x)) refColumn <- 1\n",
    "\t\t\tf <- rep(NA,ncol(x))\n",
    "\t\t\tfor(i in 1:ncol(x))\n",
    "\t\t\t\tf[i] <- .calcFactorWeighted(obs=x[,i],ref=x[,refColumn], libsize.obs=lib.size[i], libsize.ref=lib.size[refColumn], logratioTrim=logratioTrim, sumTrim=sumTrim, doWeighting=doWeighting, Acutoff=Acutoff)\n",
    "\t\t\tf\n",
    "\t\t},\n",
    "\t\tRLE = .calcFactorRLE(x)/lib.size,\n",
    "\t\tupperquartile = .calcFactorQuantile(x,lib.size,p=p),\n",
    "\t\tnone = rep(1,ncol(x))\n",
    "\t)\n",
    "\n",
    "#\tFactors should multiple to one\n",
    "\tf <- f/exp(mean(log(f)))\n",
    "\n",
    "#\tOutput\n",
    "\tf\n",
    "}\n",
    "\n",
    "\n",
    ".calcFactorRLE <- function (data)\n",
    "{\n",
    "\tgm <- exp(rowMeans(log(data)))\n",
    "\tapply(data, 2, function(u) median((u/gm)[gm > 0]))\n",
    "}\n",
    "\n",
    ".calcFactorQuantile <- function (data, lib.size, p=0.75)\n",
    "{\n",
    "#\ti <- apply(data<=0,1,all)\n",
    "#\tif(any(i)) data <- data[!i,,drop=FALSE]\n",
    "\ty <- t(t(data)/lib.size)\n",
    "\tf <- apply(y,2,function(x) quantile(x,p=p))\n",
    "#\tf/exp(mean(log(f)))\n",
    "}\n",
    "\n",
    ".calcFactorWeighted <- function(obs, ref, libsize.obs=NULL, libsize.ref=NULL, logratioTrim=.3, sumTrim=0.05, doWeighting=TRUE, Acutoff=-1e10)\n",
    "#\tTMM between two libraries\n",
    "{\n",
    "\tobs <- as.numeric(obs)\n",
    "\tref <- as.numeric(ref)\n",
    "\n",
    "\tif( is.null(libsize.obs) ) nO <- sum(obs) else nO <- libsize.obs\n",
    "\tif( is.null(libsize.ref) ) nR <- sum(ref) else nR <- libsize.ref\n",
    "\n",
    "\tlogR <- log2((obs/nO)/(ref/nR))\t\t\t# log ratio of expression, accounting for library size\n",
    "\tabsE <- (log2(obs/nO) + log2(ref/nR))/2\t# absolute expression\n",
    "\tv <- (nO-obs)/nO/obs + (nR-ref)/nR/ref\t # estimated asymptotic variance\n",
    "\n",
    "#\tremove infinite values, cutoff based on A\n",
    "\tfin <- is.finite(logR) & is.finite(absE) & (absE > Acutoff)\n",
    "\n",
    "\tlogR <- logR[fin]\n",
    "\tabsE <- absE[fin]\n",
    "\tv <- v[fin]\n",
    "\n",
    "\tif(max(abs(logR)) < 1e-6) return(1)\n",
    "\n",
    "#\ttaken from the original mean() function\n",
    "\tn <- length(logR)\n",
    "\tloL <- floor(n * logratioTrim) + 1\n",
    "\thiL <- n + 1 - loL\n",
    "\tloS <- floor(n * sumTrim) + 1\n",
    "\thiS <- n + 1 - loS\n",
    "\n",
    "#\tkeep <- (rank(logR) %in% loL:hiL) & (rank(absE) %in% loS:hiS)\n",
    "#\ta fix from leonardo ivan almonacid cardenas, since rank() can return\n",
    "#\tnon-integer values when there are a lot of ties\n",
    "\tkeep <- (rank(logR)>=loL & rank(logR)<=hiL) & (rank(absE)>=loS & rank(absE)<=hiS)\n",
    "\n",
    "\tif(doWeighting)\n",
    "\t\tf <- sum(logR[keep]/v[keep], na.rm=TRUE) / sum(1/v[keep], na.rm=TRUE)\n",
    "\telse\n",
    "\t\tf <- mean(logR[keep], na.rm=TRUE)\n",
    "\n",
    "#\tResults will be missing if the two libraries share no features with positive counts\n",
    "#\tIn this case, return unity\n",
    "\tif(is.na(f)) f <- 0\n",
    "\t2^f\n",
    "}\n"
   ]
  },
  {
   "cell_type": "code",
   "execution_count": null,
   "metadata": {},
   "outputs": [],
   "source": []
  },
  {
   "cell_type": "code",
   "execution_count": null,
   "metadata": {},
   "outputs": [],
   "source": []
  }
 ],
 "metadata": {
  "kernelspec": {
   "display_name": "Python 3",
   "language": "python",
   "name": "python3"
  },
  "language_info": {
   "codemirror_mode": {
    "name": "ipython",
    "version": 3
   },
   "file_extension": ".py",
   "mimetype": "text/x-python",
   "name": "python",
   "nbconvert_exporter": "python",
   "pygments_lexer": "ipython3",
   "version": "3.6.5"
  }
 },
 "nbformat": 4,
 "nbformat_minor": 2
}
